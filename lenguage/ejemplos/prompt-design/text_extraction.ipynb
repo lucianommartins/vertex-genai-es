{
 "cells": [
  {
   "cell_type": "code",
   "execution_count": null,
   "metadata": {
    "id": "ur8xi4C7S06n"
   },
   "outputs": [],
   "source": [
    "# Copyright 2023 Google LLC\n",
    "#\n",
    "# Licensed under the Apache License, Version 2.0 (the \"License\");\n",
    "# you may not use this file except in compliance with the License.\n",
    "# You may obtain a copy of the License at\n",
    "#\n",
    "#     https://www.apache.org/licenses/LICENSE-2.0\n",
    "#\n",
    "# Unless required by applicable law or agreed to in writing, software\n",
    "# distributed under the License is distributed on an \"AS IS\" BASIS,\n",
    "# WITHOUT WARRANTIES OR CONDITIONS OF ANY KIND, either express or implied.\n",
    "# See the License for the specific language governing permissions and\n",
    "# limitations under the License."
   ]
  },
  {
   "cell_type": "markdown",
   "metadata": {
    "id": "JAPoU8Sm5E6e"
   },
   "source": [
    "# Extração de informações de textos com  Generative AI na Vertex AI \n",
    "\n",
    "<table align=\"left\">\n",
    "  <td>\n",
    "    <a href=\"https://colab.research.google.com/github/GoogleCloudPlatform/generative-ai/blob/main/language/intro_palm_api.ipynb\">\n",
    "      <img src=\"https://cloud.google.com/ml-engine/images/colab-logo-32px.png\" alt=\"Colab logo\"> Execute no Colab\n",
    "    </a>\n",
    "  </td>\n",
    "  <td>\n",
    "    <a href=\"https://github.com/GoogleCloudPlatform/generative-ai/blob/main/language/intro_palm_api.ipynb\">\n",
    "      <img src=\"https://cloud.google.com/ml-engine/images/github-logo-32px.png\" alt=\"GitHub logo\">\n",
    "      Veja no GitHub\n",
    "    </a>\n",
    "  </td>\n",
    "  <td>\n",
    "    <a href=\"https://console.cloud.google.com/vertex-ai/workbench/deploy-notebook?download_url=https://raw.githubusercontent.com/GoogleCloudPlatform/generative-ai/blob/main/language/intro_palm_api.ipynb\">\n",
    "      <img src=\"https://lh3.googleusercontent.com/UiNooY4LUgW_oTvpsNhPpQzsstV5W8F7rYgxgGBD85cWJoLmrOzhVs_ksK_vgx40SHs7jCqkTkCk=e14-rj-sc0xffffff-h130-w32\" alt=\"Vertex AI logo\">\n",
    "      Execute no Vertex AI Workbench\n",
    "    </a>\n",
    "  </td>\n",
    "</table>"
   ]
  },
  {
   "cell_type": "markdown",
   "metadata": {
    "id": "tvgnzT1CKxrO"
   },
   "source": [
    "## Visão geral\n",
    "\n",
    "A extração de informações é um processo que pode ser feito manualmente ou automaticamente. A extração manual de informações é o processo de ler o documento e copiar informações para um novo documento. A extração automática de informações é o processo de usar um software para extrair informações do documento.\n",
    "\n",
    "A extração de informações de textos pode ser usada para uma variedade de propósitos. Um propósito comum é converter documentos em um formato legível por máquina. Isso pode ser útil para armazenar documentos em um banco de dados ou para processar documentos com software. Outra finalidade comum é extrair informações de documentos. Isso pode ser útil para localizar informações específicas em um documento ou para resumir o conteúdo de um documento.\n",
    "\n",
    "Modelos de linguagem grandes (LLMs) são bons para extração de informações porque são treinados em conjuntos de dados massivos de texto e código, o que lhes permite aprender as relações entre palavras e frases. Eles também podem entender o contexto do texto e gerar texto, o que lhes permite extrair informações que não são explicitamente declaradas ou preencher as lacunas no texto que estão faltando. As respostas dos LLMs também podem ser melhoradas por meio de métodos como prompts de poucos disparos.\n",
    "\n",
    "Saiba mais sobre os prompts de extração na [documentação oficial](https://cloud.google.com/vertex-ai/docs/generative-ai/text/extraction-prompts)."
   ]
  },
  {
   "cell_type": "markdown",
   "metadata": {
    "id": "d975e698c9a4"
   },
   "source": [
    "### Objetivo\n",
    "\n",
    "Neste tutorial, você aprenderá como usar modelos generativos para extrair as informações de textos trabalhando com os seguintes exemplos:\n",
    "- Extração de especificações técnicas do Google Pixel\n",
    "- Solução de problemas de WiFi\n",
    "- Responder a perguntas como um personagem\n",
    "- Convertendo uma lista de ingredientes para o formato JSON\n",
    "- Organizar os resultados de uma extração de texto"
   ]
  },
  {
   "cell_type": "markdown",
   "metadata": {
    "id": "aed92deeb4a0"
   },
   "source": [
    "### Custos\n",
    "Este tutorial usa os seguintes componentes de Google Cloud:\n",
    "\n",
    "* Vertex AI Generative AI Studio\n",
    "\n",
    "Saiba mais sobre possíveis custos envolvidos [preços da Vertex AI](https://cloud.google.com/vertex-ai/pricing),\n",
    "e use a [Calculadora de preços](https://cloud.google.com/products/calculator/)\n",
    "para gerar uma estimativa de custo com base no uso projetado."
   ]
  },
  {
   "cell_type": "markdown",
   "metadata": {
    "id": "xoMiNbiCDM2w"
   },
   "source": [
    "## Primeiros Passos"
   ]
  },
  {
   "cell_type": "markdown",
   "metadata": {
    "id": "2a5AEr0lkLKD"
   },
   "source": [
    "### Instalando os SDK da Vertex AI e da Cloud Translate API"
   ]
  },
  {
   "cell_type": "code",
   "execution_count": null,
   "metadata": {
    "id": "148dd6321946",
    "scrolled": true,
    "tags": []
   },
   "outputs": [],
   "source": [
    "!pip install google-cloud-aiplatform google-cloud-translate --upgrade --user"
   ]
  },
  {
   "cell_type": "markdown",
   "metadata": {
    "id": "FLVWFKFwkLKE"
   },
   "source": [
    "**Somente Colab:** Descomente a célula a seguir para reiniciar o kernel ou use o botão para reiniciar o kernel."
   ]
  },
  {
   "cell_type": "code",
   "execution_count": null,
   "metadata": {
    "id": "_Hsqwn4hkLKE"
   },
   "outputs": [],
   "source": [
    "# # Reinicia automaticamente o kernel após as instalações para que seu ambiente possa acessar os novos pacotes\n",
    "# import IPython\n",
    "\n",
    "# app = IPython.Application.instance()\n",
    "# app.kernel.do_shutdown(True)"
   ]
  },
  {
   "cell_type": "markdown",
   "metadata": {
    "id": "Xe7OuYuGkLKF"
   },
   "source": [
    "### Autenticando seu ambiente de notebook\n",
    "* Se você estiver usando o **Colab** para executar este notebook, descomente a célula abaixo e continue.\n",
    "* Se você estiver usando o **Vertex AI Workbench**, confira as instruções de configuração [aqui](../setup-env/README.md)."
   ]
  },
  {
   "cell_type": "code",
   "execution_count": null,
   "metadata": {
    "id": "U9Gx2SAZkLKF"
   },
   "outputs": [],
   "source": [
    "# from google.colab import auth\n",
    "# auth.authenticate_user()"
   ]
  },
  {
   "cell_type": "markdown",
   "metadata": {
    "id": "960505627ddf"
   },
   "source": [
    "### Importando as bibliotecas necessárias"
   ]
  },
  {
   "cell_type": "markdown",
   "metadata": {},
   "source": [
    "**Somente Colab:** Descomente a célula a seguir para realizar o processo adequado de inicialização da SDK da Vertex AI.  "
   ]
  },
  {
   "cell_type": "code",
   "execution_count": null,
   "metadata": {},
   "outputs": [],
   "source": [
    "# import vertexai\n",
    "\n",
    "# PROJECT_ID = \"[seu-project-id]\"  # @param {type:\"string\"}\n",
    "# vertexai.init(project=PROJECT_ID, location=\"us-central1\")"
   ]
  },
  {
   "cell_type": "code",
   "execution_count": null,
   "metadata": {
    "id": "PyQmSRbKA8r-"
   },
   "outputs": [],
   "source": [
    "from vertexai.preview.language_models import TextGenerationModel"
   ]
  },
  {
   "cell_type": "markdown",
   "metadata": {
    "id": "UP76a2la7O-a"
   },
   "source": [
    "#### Carregando o modelo `text-bison`"
   ]
  },
  {
   "cell_type": "code",
   "execution_count": null,
   "metadata": {
    "id": "7isig7e07O-a"
   },
   "outputs": [],
   "source": [
    "generation_model = TextGenerationModel.from_pretrained(\"text-bison@001\")"
   ]
  },
  {
   "cell_type": "markdown",
   "metadata": {},
   "source": [
    "#### Criando a função *wrapper* para utilizar os modelos em Português\n",
    "\n",
    "Até o momento desde treinamento, as API do Generative AI Studio suportam somente interações no idioma inglês. Para fazermos interações utilizando o idioma português, vamos utilizar a [Cloud Translation API](https://cloud.google.com/translate) para traduzir as nossas solicitações do português para o inglês e as respostas da API de inglês para português."
   ]
  },
  {
   "cell_type": "code",
   "execution_count": null,
   "metadata": {},
   "outputs": [],
   "source": [
    "from google.cloud import translate\n",
    "\n",
    "project_id = !gcloud config list project\n",
    "project_id = project_id[1].split('=')[1].strip()\n",
    "parent = f'projects/' + project_id\n",
    "\n",
    "\n",
    "def traduza(texto, idioma_destino):\n",
    "    client = translate.TranslationServiceClient()\n",
    "\n",
    "    response = client.translate_text(\n",
    "        parent=parent,\n",
    "        contents=[texto],\n",
    "        target_language_code=idioma_destino,\n",
    "        mime_type=\"text/plain\"\n",
    "    )\n",
    "\n",
    "    return response.translations[0].translated_text"
   ]
  },
  {
   "cell_type": "markdown",
   "metadata": {
    "id": "wbll-sxLD58J"
   },
   "source": [
    "## Extração de informações de texto"
   ]
  },
  {
   "cell_type": "markdown",
   "metadata": {
    "id": "H_uxqUPADM2z"
   },
   "source": [
    "### Extração das especificações técnicas do Google Pixel\n",
    "\n",
    "Neste exemplo, você irá extrair as especificações técnicas de um telefone Pixel do texto no formato JSON usando a API PaLM."
   ]
  },
  {
   "cell_type": "code",
   "execution_count": null,
   "metadata": {
    "id": "-T5drTkzDM2z"
   },
   "outputs": [],
   "source": [
    "prompt = traduza(\"\"\"\n",
    "Extrae las especificaciones técnicas del siguiente texto en formato JSON.\n",
    "\n",
    "Texto: Google Nest WiFi, velocidad de red de hasta 1200 Mbps, frecuencias de 2,4 GHz y 5 GHz, protocolo WP3\n",
    "JSON: {\n",
    "    \"producto\":\"Google Nest Wi-Fi\",\n",
    "    \"velocidad\":\"1200Mbps\",\n",
    "    \"frecuencias\": [\"2,4 GHz\", \"5 GHz\"],\n",
    "    \"protocolo\":\"WP3\"\n",
    "}\n",
    "\n",
    "Texto: Google Pixel 7, red 5G, 8 GB de RAM, procesador Tensor G2, 128 GB de almacenamiento, coral\n",
    "JSON:\n",
    "\"\"\", \"en\")\n",
    "\n",
    "print(\n",
    "    traduza(generation_model.predict(prompt, temperature=0.2, max_output_tokens=1024, top_k=40, top_p=0.8).text, \"es\")\n",
    ")"
   ]
  },
  {
   "cell_type": "markdown",
   "metadata": {
    "id": "Rpspa8CzDM20"
   },
   "source": [
    "### Solução de problemas de WiFi\n",
    "\n",
    "Neste exemplo, você pede ao LLM para responder a uma pergunta sobre a solução de problemas de um roteador Google WiFi com base na descrição das diferentes luzes de status no roteador. O modelo só poderá responder com o texto que foi fornecido, o que ajuda a evitar que gere respostas potencialmente incorretas. Aqui está como você pode fazer isso usando a API PaLM."
   ]
  },
  {
   "cell_type": "code",
   "execution_count": null,
   "metadata": {
    "id": "RmzlnDMBDM20"
   },
   "outputs": [],
   "source": [
    "prompt = traduza(\"\"\"\n",
    "Responda la pregunta utilizando el siguiente texto. Responda únicamente con el texto proporcionado.\n",
    "Pregunta: ¿Qué debo hacer para arreglar mi WiFi desconectado? La luz de mi enrutador WiFi de Google es amarilla y parpadea lentamente.\n",
    "\n",
    "Texto:\n",
    "Color: Sin luz\n",
    "Qué significa: el enrutador no tiene energía o la luz se ha atenuado en la aplicación.\n",
    "Que hacer:\n",
    "Asegúrese de que el cable de alimentación esté correctamente conectado al enrutador y a un tomacorriente que funcione.\n",
    "Si su dispositivo ya está configurado y la luz está apagada, verifique la configuración de brillo de la luz en la aplicación.\n",
    "Si aún no hay luz, comuníquese con el servicio de atención al cliente de Google WiFi.\n",
    "\n",
    "Color: blanco sólido, sin luz, blanco sólido\n",
    "Qué significa: el dispositivo se está iniciando.\n",
    "Que hacer:\n",
    "Espere a que el dispositivo arranque. Esto toma alrededor de un minuto. Cuando termine, parpadeará lentamente en blanco, lo que le permitirá saber que está listo para la configuración.\n",
    "\n",
    "Color: blanco pulsante lento\n",
    "Qué significa: El dispositivo está listo para la configuración.\n",
    "Que hacer:\n",
    "Use la aplicación Google Home para configurar su enrutador.\n",
    "\n",
    "Color: blanco sólido\n",
    "Qué significa: El enrutador está en línea y todo está bien.\n",
    "Que hacer:\n",
    "Usted está en línea. ¡Aprovechar!\n",
    "\n",
    "Color: amarillo pulsante lento\n",
    "Qué significa: Hay un error de red.\n",
    "Que hacer:\n",
    "Asegúrese de que el cable Ethernet esté conectado al enrutador y al módem y que ambos dispositivos estén encendidos. Puede ser necesario desconectar y volver a conectar cada dispositivo.\n",
    "\n",
    "Color: Amarillo intermitente rápido\n",
    "Qué significa: está presionando el botón de reinicio y reiniciando de fábrica este dispositivo.\n",
    "Que hacer:\n",
    "Si continúa presionando el botón de reinicio, después de unos 12 segundos, la luz se volverá amarilla fija. Cuando sea amarillo fijo, suelte el botón de restablecimiento de fábrica.\n",
    "\n",
    "Color: amarillo sólido\n",
    "Qué significa: el enrutador se está restableciendo a la configuración de fábrica.\n",
    "Que hacer:\n",
    "Esto puede tardar hasta 10 minutos. Cuando termine, el dispositivo se reiniciará y comenzará a parpadear en blanco, lo que le permitirá saber que está listo para la configuración.\n",
    "Imagen Luz roja fija Rojo fijo Algo anda mal. Fallo crítico. Restablecimiento de fábrica del enrutador. Si la luz permanece roja, comuníquese con el servicio de atención al cliente de Wi-Fi.\n",
    "\"\"\", \"en\")\n",
    "print(\n",
    "    traduza(generation_model.predict(prompt, temperature=0.2, max_output_tokens=256, top_k=1, top_p=0.8).text, \"es\")\n",
    ")"
   ]
  },
  {
   "cell_type": "markdown",
   "metadata": {
    "id": "ZtL1SdHqDM21"
   },
   "source": [
    "### Responder a perguntas como um personagem\n",
    "\n",
    "Agora, você instrui o LLM a fingir ser Klara, uma pessoa. Você também contará ao modelo sobre os traços de personalidade de Klara. Em seguida, você pedirá ao modelo que responda a uma pergunta como Klara responderia."
   ]
  },
  {
   "cell_type": "code",
   "execution_count": null,
   "metadata": {
    "id": "kvT8WVNnDM21"
   },
   "outputs": [],
   "source": [
    "prompt = traduza(\"\"\"\n",
    "Eres Klara.\n",
    "Klara es gestora de inversiones.\n",
    "Klara solo responde si Klara está segura de que es correcto.\n",
    "Klara responde a la pregunta del usuario según los resúmenes de la página a continuación.\n",
    "Klara genera la identificación de referencia donde Klara encontró la respuesta para cada oración en la respuesta.\n",
    "Klara también resume la parte donde se encuentra la información.\n",
    "\n",
    "Resúmenes de página: ['ID de referencia 1. UBS quiere ser visto como un banco global con raíces suizas, no solo como un banco europeo. El nuevo presidente de la junta, \\\n",
    "                     Colm Kelleher y el director ejecutivo Ralph Hamers celebraron una serie de reuniones con influyentes gestores de fondos de EE. UU. para aumentar sus participaciones \\\n",
    "                     en el banco. UBS es uno de los bancos europeos más valiosos con una relación precio/valor contable de 1.', 'ID de referencia 2. Credit Suisse vende \\\n",
    "                     Participación del 30% en la gestora de activos suiza Energy Infrastructure Partners. EIP se especializa en inversiones de capital a largo plazo \\\n",
    "                     para activos de infraestructura renovable y de energía a gran escala. La transacción puede formar parte de un esfuerzo continuo por parte del banco suizo para \\\n",
    "                     reducir aún más la brecha de capital.' El príncipe Mohammed inyectaría alrededor de 500 millones de dólares en la escisión de CS First Boston. Otros inversores \\\n",
    "                     puede incluir al exjefe de Barclays, Bob Diamonds, Atlas Merchant Capital. El Banco Nacional Saudita ya posee una participación del 9,9 por ciento en \\\n",
    "                     institución suiza problemática. . The Wall Street Journal informó que Apollo también está interesado en invertir en CS First Boston. La división \\\n",
    "                     banco de inversión banco de inversión está a punto de convertirse en una nueva unidad .', 'ID de referencia 5. Banco privado \\\n",
    "                     Pictet, con sede en Ginebra, ha contratado a un nuevo equipo en su negocio de inversión en el mercado privado de miles de millones de dólares. Edmund Buckley, \\\n",
    "                     Nikolaus Hubmann, Sean Howard, Jan Dreesen y Hugo Hickson trabajarán en el espacio de inversión directa de capital privado en el futuro. O \\\n",
    "                     El compromiso del equipo de Buckley puede verse como un golpe para el socio de Pictet, Elif Aktuğ.', 'ID de referencia 6. UBS quiere ser visto\\\n",
    "                     como un banco global con raíces suizas, no solo como un banco europeo. Nuevo presidente Colm Kelleher y CEO Ralph Hamers \\\n",
    "                     celebró una serie de reuniones con influyentes gestores de fondos estadounidenses para aumentar sus participaciones en el banco. UBS es uno de los bancos \\\n",
    "                     europeos más valiosos con una relación precio-valor contable de 1 .', 'ID de referencia 7. Apollo Global Management, con sede en EE. UU., es \\\n",
    "                     entre un grupo de compañías financieras en conversaciones con Credit Suisse sobre una participación en el renovado banco de inversión. La pared\n",
    "                     Street Journal informó que Apollo también está interesado en invertir en CS First Boston. La división de banca de inversión de \\\n",
    "                     la inversión se dividirá en una nueva unidad.', 'ID de referencia 8. Filial de Apex con sede en Luxemburgo Europa \\\n",
    "                     Depositary Bank (EDB) y el especialista en titulización Gentwo se asocian. EDB y Gentwo ofrecerán agentes y servicios de pago \\\n",
    "                     servicios bancarios a terceros inversores en todo el mundo. Gentwo desarrolla plataformas para gestores de activos, bancos, family office y \\\n",
    "                     capitalistas de riesgo.', 'Referencia ID 9. El SNB ha seguido planes para adquirir participaciones en instituciones financieras europeas y \\\n",
    "                     americanos durante algún tiempo. Credit Suisse, Julius Baer, ​​Standard Chartered y Asian DBS Group también fueron mencionados como posibles objetivos.', \\\n",
    "                     'Referencia ID 10. Zuercher Kantonalbank tiene la intención de expandir su negocio de banca privada, incluso en el extranjero. El CEO Urs Baumann ve a Credit\\\n",
    "                     Suisse como socio confiable para el banco estatal. Baumann seguirá centrándose en reducir la dependencia de los bancos del negocio de \\\n",
    "                     diferencial de interés en un intento de diversificar sus negocios.']\n",
    "\n",
    "Pregunta del usuario: ¿Los bancos globales están invirtiendo en iniciativas de sostenibilidad?\n",
    "Respuesta de Klara:\n",
    "\"\"\", \"en\")\n",
    "\n",
    "print(\n",
    "    traduza(generation_model.predict(prompt, temperature=0.2, max_output_tokens=256, top_k=40, top_p=0.8).text, \"es\")\n",
    ")"
   ]
  },
  {
   "cell_type": "markdown",
   "metadata": {
    "id": "CJTjCPMNDM22"
   },
   "source": [
    "### Convertendo uma lista de ingredientes para o formato JSON\n",
    "\n",
    "Suponha que você queira listar ingredientes em receitas para inserir em um banco de dados, o que requer uma saída bem formatada como JSON. Isso pode ser feito usando um LLM da seguinte maneira:"
   ]
  },
  {
   "cell_type": "code",
   "execution_count": null,
   "metadata": {
    "id": "fqrWfuZaDM22"
   },
   "outputs": [],
   "source": [
    "prompt = traduza(\"\"\"\n",
    "Extraiga los ingredientes de la siguiente receta. Devolver ingredientes en formato JSON con claves: ingrediente, cantidad, tipo.\n",
    "\n",
    "Ingredientes:\n",
    "* 1 cucharada de aceite de oliva\n",
    "* 1 cebolla picada\n",
    "* 2 zanahorias picadas\n",
    "* 2 tallos de apio picados\n",
    "* 1 cucharadita de comino molido\n",
    "* 1/2 cucharadita de cilantro molido\n",
    "* 1/4 cucharadita de cúrcuma en polvo\n",
    "* 1/4 cucharadita de pimienta de cayena (opcional)\n",
    "* Sal y pimienta para probar\n",
    "* 425g de frijoles negros, lavados y escurridos\n",
    "* 425g de frijoles, lavados y escurridos\n",
    "* 420 g de tomates cortados en cubos de lata, sin escurrir\n",
    "* Lata de 280 g de tomates picados con pimientos verdes, sin escurrir\n",
    "* 4 tazas de caldo de verduras\n",
    "* 1 taza de cilantro fresco picado\n",
    "\"\"\", \"en\")\n",
    "\n",
    "print(\n",
    "    traduza(generation_model.predict(prompt, temperature=0.2, max_output_tokens=1024, top_k=40, top_p=0.8).text, \"es\")\n",
    ")"
   ]
  },
  {
   "cell_type": "markdown",
   "metadata": {
    "id": "4aOG3EnKDM23"
   },
   "source": [
    "### Organizando os resultados de uma extração de informações\n",
    "\n",
    "Nesta seção, você extrai as informações desejadas de um bloco de texto e as organiza de maneira estruturada, como separar por vírgulas. Aqui você usa prompt few-shot para orientar o modelo a formatar suas saídas para serem separadas por vírgulas."
   ]
  },
  {
   "cell_type": "code",
   "execution_count": null,
   "metadata": {
    "id": "LKHhBL9fDM23"
   },
   "outputs": [],
   "source": [
    "prompt = traduza(\"\"\"\n",
    "Mensaje: Rachel Green (Jennifer Aniston), una mujer protegida pero amistosa, huye del día de su boda y de una vida rica pero insatisfactoria, y conoce a su amiga de la infancia Monica Geller (Courteney Cox), una chef tensa pero cariñosa.\n",
    "Rachel se convierte en camarera en el café Central Perk en West Village después de mudarse al departamento de Monica arriba de Central Perk y unirse al grupo de amigas solteras de Monica en sus 20:\n",
    "la excompañera de cuarto Phoebe Buffay (Lisa Kudrow), una incómoda masajista y música; el vecino Joey Tribbiani (Matt LeBlanc), un actor testarudo pero leal y trabajador; El compañero de cuarto de Joey, Chandler Bing (Matthew Perry),\n",
    "un procesador de datos sarcástico y autocrítico; y el hermano mayor de Monica y compañero de cuarto de la universidad de Chandler, Ross Geller (David Schwimmer), un paleontólogo dulce pero inseguro.\n",
    "\n",
    "Extraiga los personajes y los actores que los interpretaron del mensaje anterior:\n",
    "Rachel Green - Jennifer Aniston, Monica Geller - Courteney Cox, Phoebe Buffay - Lisa Kudrow, Joey Tribbiani - Matt LeBlanc, Chandler Bing - Matthew Perry, Ross Geller - David Schwimmer\n",
    "\n",
    "Mensaje: Juegos como el ajedrez, el póquer, el Go y muchos videojuegos siempre han sido un terreno fértil para la investigación de la IA. Diplomacy es un juego de comercio y creación de alianzas para siete jugadores que se juega en un antiguo mapa de la Europa dividida.\n",
    "en provincias, donde cada jugador controla varias unidades (reglas de Diplomacia). En la versión estándar del juego, llamada Press Diplomacy, cada turno incluye una fase de negociación, después de la cual todos los jugadores revelan sus\n",
    "movimientos seleccionados simultáneamente. El corazón de Diplomacia es la fase de negociación, donde los jugadores intentan llegar a un acuerdo sobre sus próximos movimientos. Por ejemplo, una unidad puede apoyar a otra unidad, lo que le permite superar la resistencia de otras unidades,\n",
    "como se ilustra aquí: Los enfoques computacionales de la diplomacia se han investigado desde la década de 1980, muchos de los cuales se exploraron en una versión más simple del juego llamada Diplomacia sin prensa, donde la comunicación estratégica entre\n",
    "los jugadores no están permitidos. Los investigadores también propusieron protocolos comerciales amigables con la computadora, a veces llamados \\342\\200\\234Restricted-Press\\342\\200\\235.\n",
    "\n",
    "Extrae la definición de Diplomacia:\n",
    "Un juego de comercio y construcción de alianzas para siete jugadores.\n",
    "\n",
    "\n",
    "Mensaje: En 2016, cuando no usábamos simulación y usábamos una pequeña configuración de laboratorio de robot industrial para aprender a recoger objetos pequeños como juguetes, llaves y artículos domésticos cotidianos, tomó el equivalente de\n",
    "cuatro meses para que un robot aprenda un agarre simple con una tasa de éxito del 75%. Hoy, un solo robot aprende a realizar una tarea compleja como abrir puertas con una tasa de éxito del 90 % en menos de un día.\n",
    "del aprendizaje del mundo real. Aún más emocionante, mostramos que podemos tomar los algoritmos y los aprendizajes de abrir puertas y aplicarlos a una nueva tarea: enderezar las sillas en nuestros cafés. Este progreso nos da\n",
    "esperamos que nuestro intento de construir robots de aprendizaje de propósito general sea posible.\n",
    "\n",
    "Extraiga las tasas de éxito de los robots en 2016 y hoy, respectivamente:\n",
    "75%, 90%\n",
    "\n",
    "Mensaje: CapitalG se fundó hace una década para empoderar a los emprendedores con Alphabet y la experiencia inigualable de crecimiento de Google.\n",
    "Tenemos el privilegio de compartir las lecciones aprendidas al ayudar a escalar Google, Stripe, Airbnb, CrowdStrike, Databricks y Zscaler con la próxima ola de empresas tecnológicas generacionales, quizás incluida la suya.\n",
    "Alphabet es nuestro único LP y proporciona capital paciente a largo plazo. Como fondo de crecimiento independiente, nuestras prioridades están alineadas con nuestros emprendedores. Las empresas de CapitalG han logrado adaptarse al mercado de productos y están listas para escalar. Mantenemos una cartera pequeña y enfocada para que cada empresa reciba un capital sustancial y apoyo práctico.\n",
    "\n",
    "Extracto de las empresas financiadas por CapitalG:\n",
    "\"\"\", \"en\")\n",
    "\n",
    "print(\n",
    "    traduza(generation_model.predict(prompt, temperature=0.2, max_output_tokens=256, top_k=1, top_p=0.8).text, \"es\")\n",
    ")"
   ]
  },
  {
   "cell_type": "markdown",
   "metadata": {
    "id": "2032a159249c"
   },
   "source": [
    "Como você pode ver na saída acima, com base no prompt few-shot, o LLM gerou a lista de nomes das empresas financiadas pelo CapitalG no formato separado por vírgulas."
   ]
  },
  {
   "cell_type": "code",
   "execution_count": null,
   "metadata": {},
   "outputs": [],
   "source": []
  }
 ],
 "metadata": {
  "colab": {
   "name": "text_extraction.ipynb",
   "toc_visible": true
  },
  "environment": {
   "kernel": "python3",
   "name": "tf2-gpu.2-8.m107",
   "type": "gcloud",
   "uri": "gcr.io/deeplearning-platform-release/tf2-gpu.2-8:m107"
  },
  "kernelspec": {
   "display_name": "Python 3 (ipykernel) (Local)",
   "language": "python",
   "name": "local-python3"
  },
  "language_info": {
   "codemirror_mode": {
    "name": "ipython",
    "version": 3
   },
   "file_extension": ".py",
   "mimetype": "text/x-python",
   "name": "python",
   "nbconvert_exporter": "python",
   "pygments_lexer": "ipython3",
   "version": "3.7.12"
  }
 },
 "nbformat": 4,
 "nbformat_minor": 4
}
