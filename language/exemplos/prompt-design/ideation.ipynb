{
 "cells": [
  {
   "cell_type": "code",
   "execution_count": null,
   "metadata": {
    "id": "ur8xi4C7S06n"
   },
   "outputs": [],
   "source": [
    "# Copyright 2023 Google LLC\n",
    "#\n",
    "# Licensed under the Apache License, Version 2.0 (the \"License\");\n",
    "# you may not use this file except in compliance with the License.\n",
    "# You may obtain a copy of the License at\n",
    "#\n",
    "#     https://www.apache.org/licenses/LICENSE-2.0\n",
    "#\n",
    "# Unless required by applicable law or agreed to in writing, software\n",
    "# distributed under the License is distributed on an \"AS IS\" BASIS,\n",
    "# WITHOUT WARRANTIES OR CONDITIONS OF ANY KIND, either express or implied.\n",
    "# See the License for the specific language governing permissions and\n",
    "# limitations under the License."
   ]
  },
  {
   "cell_type": "markdown",
   "metadata": {
    "id": "JAPoU8Sm5E6e"
   },
   "source": [
    "# Ideação com modelos generativos na Vertex AI\n",
    "\n",
    "<table align=\"left\">\n",
    "  <td>\n",
    "    <a href=\"https://colab.research.google.com/github/GoogleCloudPlatform/generative-ai/blob/main/language/intro_palm_api.ipynb\">\n",
    "      <img src=\"https://cloud.google.com/ml-engine/images/colab-logo-32px.png\" alt=\"Colab logo\"> Execute no Colab\n",
    "    </a>\n",
    "  </td>\n",
    "  <td>\n",
    "    <a href=\"https://github.com/GoogleCloudPlatform/generative-ai/blob/main/language/intro_palm_api.ipynb\">\n",
    "      <img src=\"https://cloud.google.com/ml-engine/images/github-logo-32px.png\" alt=\"GitHub logo\">\n",
    "      Veja no GitHub\n",
    "    </a>\n",
    "  </td>\n",
    "  <td>\n",
    "    <a href=\"https://console.cloud.google.com/vertex-ai/workbench/deploy-notebook?download_url=https://raw.githubusercontent.com/GoogleCloudPlatform/generative-ai/blob/main/language/intro_palm_api.ipynb\">\n",
    "      <img src=\"https://lh3.googleusercontent.com/UiNooY4LUgW_oTvpsNhPpQzsstV5W8F7rYgxgGBD85cWJoLmrOzhVs_ksK_vgx40SHs7jCqkTkCk=e14-rj-sc0xffffff-h130-w32\" alt=\"Vertex AI logo\">\n",
    "      Execute no Vertex AI Workbench\n",
    "    </a>\n",
    "  </td>\n",
    "</table>"
   ]
  },
  {
   "cell_type": "markdown",
   "metadata": {
    "id": "tvgnzT1CKxrO"
   },
   "source": [
    "## Visão geral\n",
    "\n",
    "Ideação é o processo criativo de gerar, desenvolver e comunicar novas ideias. É uma parte fundamental do processo de `design thinking` e pode ser usado para resolver problemas, criar novos produtos ou serviços ou outras tarefas criativas.\n",
    "\n",
    "Os modelos generativos são uma ferramenta poderosa que pode ser usada para impulsionar a criatividade e a inovação. Ao aprender como usá-los de forma eficaz, você pode melhorar sua capacidade de apresentar novas ideias e soluções para problemas. Uma parte fundamental disso é aprender como estruturar prompts para usar modelos generativos para tarefas de ideação.\n",
    "\n",
    "Saiba mais sobre o design de prompt na [documentação oficial](https://cloud.google.com/vertex-ai/docs/generative-ai/text/text-overview#prompt_structure)."
   ]
  },
  {
   "cell_type": "markdown",
   "metadata": {
    "id": "d975e698c9a4"
   },
   "source": [
    "### Objetivo\n",
    "\n",
    "Neste tutorial, você aprenderá a usar modelos generativos do Vertex AI SDK para acelerar o processo de criação trabalhando com os seguintes exemplos:\n",
    "- Geração de campanha de marketing\n",
    "- Criação de perguntas de compreensão de leitura\n",
    "- Geração de memes\n",
    "- Geração de perguntas para entrevistas\n",
    "- Geração de nomes\n",
    "- Dicas e conselhos gerais"
   ]
  },
  {
   "cell_type": "markdown",
   "metadata": {
    "id": "aed92deeb4a0"
   },
   "source": [
    "### Custos\n",
    "Este tutorial usa os seguintes componentes de Google Cloud:\n",
    "\n",
    "* Vertex AI Generative AI Studio\n",
    "\n",
    "Saiba mais sobre possíveis custos envolvidos [preços da Vertex AI](https://cloud.google.com/vertex-ai/pricing),\n",
    "e use a [Calculadora de preços](https://cloud.google.com/products/calculator/)\n",
    "para gerar uma estimativa de custo com base no uso projetado."
   ]
  },
  {
   "cell_type": "markdown",
   "metadata": {
    "id": "UwfLa-Uzua-4"
   },
   "source": [
    "## Primeiros Passos"
   ]
  },
  {
   "cell_type": "markdown",
   "metadata": {
    "id": "2a5AEr0lkLKD"
   },
   "source": [
    "### Instalando os SDK da Vertex AI e da Cloud Translate API"
   ]
  },
  {
   "cell_type": "code",
   "execution_count": null,
   "metadata": {
    "id": "148dd6321946",
    "scrolled": true,
    "tags": []
   },
   "outputs": [],
   "source": [
    "!pip install google-cloud-aiplatform google-cloud-translate --upgrade --user"
   ]
  },
  {
   "cell_type": "markdown",
   "metadata": {},
   "source": [
    "**Somente Colab:** Descomente a célula a seguir para reiniciar o kernel ou use o botão para reiniciar o kernel."
   ]
  },
  {
   "cell_type": "code",
   "execution_count": null,
   "metadata": {
    "id": "_Hsqwn4hkLKE"
   },
   "outputs": [],
   "source": [
    "# # Reinicia automaticamente o kernel após as instalações para que seu ambiente possa acessar os novos pacotes\n",
    "# import IPython\n",
    "\n",
    "# app = IPython.Application.instance()\n",
    "# app.kernel.do_shutdown(True)"
   ]
  },
  {
   "cell_type": "markdown",
   "metadata": {
    "id": "Xe7OuYuGkLKF"
   },
   "source": [
    "### Autenticando seu ambiente de notebook\n",
    "* Se você estiver usando o **Colab** para executar este notebook, descomente a célula abaixo e continue.\n",
    "* Se você estiver usando o **Vertex AI Workbench**, confira as instruções de configuração [aqui](../../setup-env/README.md)."
   ]
  },
  {
   "cell_type": "code",
   "execution_count": null,
   "metadata": {
    "id": "U9Gx2SAZkLKF"
   },
   "outputs": [],
   "source": [
    "# from google.colab import auth\n",
    "# auth.authenticate_user()"
   ]
  },
  {
   "cell_type": "markdown",
   "metadata": {
    "id": "960505627ddf"
   },
   "source": [
    "### Importando as bibliotecas necessárias"
   ]
  },
  {
   "cell_type": "markdown",
   "metadata": {},
   "source": [
    "**Somente Colab:** Descomente a célula a seguir para realizar o processo adequado de inicialização da SDK da Vertex AI.  "
   ]
  },
  {
   "cell_type": "code",
   "execution_count": null,
   "metadata": {},
   "outputs": [],
   "source": [
    "# import vertexai\n",
    "\n",
    "# PROJECT_ID = \"[seu-project-id]\"  # @param {type:\"string\"}\n",
    "# vertexai.init(project=PROJECT_ID, location=\"us-central1\")"
   ]
  },
  {
   "cell_type": "code",
   "execution_count": null,
   "metadata": {
    "id": "PyQmSRbKA8r-"
   },
   "outputs": [],
   "source": [
    "from vertexai.preview.language_models import TextGenerationModel"
   ]
  },
  {
   "cell_type": "markdown",
   "metadata": {
    "id": "UP76a2la7O-a"
   },
   "source": [
    "#### Carregando o modelo `text-bison`"
   ]
  },
  {
   "cell_type": "code",
   "execution_count": null,
   "metadata": {
    "id": "7isig7e07O-a"
   },
   "outputs": [],
   "source": [
    "generation_model = TextGenerationModel.from_pretrained(\"text-bison@001\")"
   ]
  },
  {
   "cell_type": "markdown",
   "metadata": {},
   "source": [
    "#### Criando a função *wrapper* para utilizar os modelos em Português\n",
    "\n",
    "Até o momento desde treinamento, as API do Generative AI Studio suportam somente interações no idioma inglês. Para fazermos interações utilizando o idioma português, vamos utilizar a [Cloud Translation API](https://cloud.google.com/translate) para traduzir as nossas solicitações do português para o inglês e as respostas da API de inglês para português."
   ]
  },
  {
   "cell_type": "code",
   "execution_count": null,
   "metadata": {},
   "outputs": [],
   "source": [
    "from google.cloud import translate\n",
    "\n",
    "project_id = !gcloud config list project\n",
    "project_id = project_id[1].split('=')[1].strip()\n",
    "parent = f'projects/' + project_id\n",
    "\n",
    "\n",
    "def traduza(texto, idioma_destino):\n",
    "    client = translate.TranslationServiceClient()\n",
    "\n",
    "    response = client.translate_text(\n",
    "        parent=parent,\n",
    "        contents=[texto],\n",
    "        target_language_code=idioma_destino,\n",
    "        mime_type=\"text/plain\"\n",
    "    )\n",
    "\n",
    "    return response.translations[0].translated_text"
   ]
  },
  {
   "cell_type": "markdown",
   "metadata": {
    "id": "LoYLyYlLxN72"
   },
   "source": [
    "## Exemplos de ideação"
   ]
  },
  {
   "cell_type": "markdown",
   "metadata": {
    "id": "Km9MirdFua-5"
   },
   "source": [
    "### Geração de campanha de marketing\n",
    "\n",
    "Neste exemplo, nosso exemplo de geração envolverá o processo de criação de uma campanha sobre sustentabilidade. Vamos ver como isso pode ser feito usando a API do PaLM."
   ]
  },
  {
   "cell_type": "code",
   "execution_count": null,
   "metadata": {
    "id": "q2v5Pdkdua-6",
    "scrolled": true,
    "tags": []
   },
   "outputs": [],
   "source": [
    "prompt = traduza(\"Ejecute una campaña de marketing de moda y sostenibilidad.\", \"en\")\n",
    "\n",
    "print(\n",
    "    traduza(generation_model.predict(prompt, temperature=0.2, max_output_tokens=1024, top_k=40, top_p=0.8).text, \"es\")\n",
    ")"
   ]
  },
  {
   "cell_type": "markdown",
   "metadata": {
    "id": "7DC1rKWlua-6"
   },
   "source": [
    "### Criando questões de compreensão de leitura\n",
    "\n",
    "Testes de compreensão de leitura são frequentemente usados em escolas e universidades para avaliar as habilidades de leitura de um aluno. Você pode usar a API PaLM para gerar alguns exemplos de perguntas para testar a compreensão de uma pessoa de uma passagem de texto fornecida."
   ]
  },
  {
   "cell_type": "code",
   "execution_count": null,
   "metadata": {
    "id": "Shb54o4vua-6"
   },
   "outputs": [],
   "source": [
    "prompt = traduza(\"\"\"\n",
    "Genera 5 preguntas que pongan a prueba la comprensión del lector del siguiente texto.\n",
    "\n",
    "Texto:\n",
    "La selva amazónica, también llamada selva amazónica o Amazonas, es un bosque tropical húmedo de hoja ancha en el bioma amazónico que cubre la mayor parte de la cuenca amazónica de América del Sur. Esta cuenca cubre 7.000.000 km2 (2.700.000 millas cuadradas), de los cuales 5.500.000 km2 (2.100.000 millas cuadradas) están cubiertos por selva tropical. Esta región incluye territorios pertenecientes a nueve naciones y 3.344 territorios indígenas formalmente reconocidos.\n",
    "\n",
    "La mayor parte del bosque, 60%, está en Brasil, seguido de Perú con 13%, Colombia con 10% y cantidades menores en Bolivia, Ecuador, Guayana Francesa, Guayana, Surinam y Venezuela. Cuatro naciones tienen \"Amazonas\" como el nombre de una de sus regiones administrativas de alto nivel, y Francia usa el nombre \"Guyana Amazon Park\" para el área protegida de selva tropical de la Guayana Francesa. El Amazonas representa más de la mitad de las selvas tropicales restantes del planeta y comprende la extensión de selva tropical más grande y con mayor biodiversidad del mundo, con alrededor de 390 mil millones de árboles individuales en aproximadamente 16,000 especies.\n",
    "\n",
    "Más de 30 millones de personas de 350 grupos étnicos diferentes viven en la Amazonía, subdivididos en 9 sistemas políticos nacionales diferentes y 3.344 territorios indígenas formalmente reconocidos. Los pueblos indígenas constituyen el 9% de la población total, y 60 de los grupos permanecen en gran medida aislados.\n",
    "\n",
    "La selva tropical probablemente se formó durante la época del Eoceno (desde hace 56 millones de años hasta hace 33,9 millones de años). Surgió después de una reducción global de las temperaturas tropicales cuando el Océano Atlántico se expandió lo suficiente como para proporcionar un clima cálido y húmedo a la cuenca del Amazonas. La selva tropical ha existido durante al menos 55 millones de años, y la mayor parte de la región permaneció libre de biomas de tipo sabana al menos hasta la actual edad de hielo, cuando el clima era más seco y la sabana estaba más extendida.\n",
    "\n",
    "Después del evento de extinción del Cretácico-Paleógeno, la extinción de los dinosaurios y el clima más húmedo pueden haber permitido que la selva tropical se extendiera por todo el continente. Entre 66 y 34 millones de años, la selva tropical se extendió hasta los 45° sur. Las fluctuaciones climáticas en los últimos 34 millones de años han permitido que las regiones de sabana se expandan hacia los trópicos. Durante el Oligoceno, por ejemplo, la selva cubría una franja relativamente estrecha. Se expandió nuevamente durante el Mioceno Medio, luego se retiró a una formación predominantemente tierra adentro en el último máximo glacial. Sin embargo, la selva aún logró prosperar durante estos períodos glaciales, lo que permitió la supervivencia y evolución de una amplia diversidad de especies.\n",
    "\n",
    "Vista aérea de la selva amazónica\n",
    "A mediados del Eoceno, se cree que la cuenca del Amazonas fue dividida en la mitad del continente por el Arco del Púrus. El agua en el lado este fluyó hacia el Atlántico, mientras que en el oeste el agua fluyó hacia el Pacífico a través de la cuenca del Amazonas. Sin embargo, a medida que se elevaban las montañas de los Andes, se creó una gran cuenca que rodeaba un lago; conocida hoy como la Cuenca del Solimões. Durante los últimos 5 a 10 millones de años, esta agua acumulada atravesó el Arco de Purus, uniéndose al flujo hacia el este hacia el Atlántico.\n",
    "\n",
    "Existe evidencia de que ha habido cambios significativos en la vegetación de la selva amazónica durante los últimos 21.000 años hasta el último máximo glacial (LGM) y la subsiguiente deglaciación. Los análisis de los depósitos de sedimentos de los paleolagos de la cuenca del Amazonas y el abanico del Amazonas indican que la precipitación en la cuenca durante el LGM fue menor que en la actualidad, y esto casi con certeza está asociado con una reducción en la cobertura de vegetación tropical húmeda en la cuenca. En estos días, el Amazonas recibe aproximadamente 9 pies de lluvia al año. Sin embargo, existe un debate sobre cuán extensa fue esta reducción. Algunos científicos argumentan que la selva tropical se ha reducido a pequeños refugios aislados separados por bosques abiertos y pastizales; otros científicos argumentan que la selva tropical permaneció prácticamente intacta, pero se extendió menos hacia el norte, el sur y el este de lo que se ve hoy. Este debate ha resultado difícil de resolver porque las limitaciones prácticas de trabajar en la selva tropical significan que el muestreo de datos está sesgado desde el centro de la cuenca del Amazonas, y ambas explicaciones están razonablemente bien respaldadas por los datos disponibles.\n",
    "\n",
    "Polvo del desierto del Sahara llevado por el viento al Amazonas\n",
    "Más del 56% del polvo que fertiliza la selva amazónica proviene de la depresión de Bodélé en el norte de Chad, en el desierto del Sahara. El polvo contiene fósforo, que es importante para el crecimiento de las plantas. El polvo anual del Sahara reemplaza la cantidad equivalente de fósforo arrastrado anualmente al suelo amazónico por las lluvias y las inundaciones.\n",
    "\n",
    "El satélite CALIPSO de la NASA ha medido la cantidad de polvo transportado por el viento desde el Sahara hasta el Amazonas: un promedio de 182 millones de toneladas de polvo son expulsadas del Sahara cada año, a 15 grados de longitud oeste, a lo largo de 2.600 km (1.600 millas) a lo largo del Océano Atlántico (algo de polvo cae en el Atlántico), luego a 35 grados de longitud oeste en la costa este de América del Sur, 27,7 millones de toneladas (15%) de polvo caen sobre la cuenca del Amazonas (22 millones de toneladas consisten en fósforo), 132 millones de toneladas de polvo quedan en el aire, 43 millones de toneladas de polvo son arrastradas por el viento y caen al Mar Caribe, más allá de los 75 grados de longitud oeste.\n",
    "\n",
    "CALIPSO utiliza un telémetro láser para escanear la atmósfera de la Tierra en busca de la distribución vertical de polvo y otros aerosoles. CALIPSO rastrea regularmente la columna de polvo del Sahara-Amazonas. CALIPSO midió las variaciones en las cantidades de polvo transportado: una caída del 86 % entre la cantidad más alta de polvo transportado en 2007 y la más baja en 2011.\n",
    "Una posibilidad que causa la variación es el Sahel, una franja de tierra semiárida en la frontera sur del Sahara. Cuando las cantidades de lluvia en el Sahel son mayores, el volumen de polvo es menor. El aumento de las precipitaciones podría hacer que creciera más vegetación en el Sahel, dejando menos arena expuesta a los vientos.[25]\n",
    "\n",
    "El fósforo del Amazonas también entra en forma de humo debido a la quema de biomasa en África.\n",
    "\n",
    "Preguntas:\n",
    "\"\"\", \"en\")\n",
    "\n",
    "print(\n",
    "    traduza(generation_model.predict(prompt, temperature=0.2, max_output_tokens=1024, top_k=40, top_p=0.8).text, \"es\")\n",
    ")"
   ]
  },
  {
   "cell_type": "markdown",
   "metadata": {
    "id": "GCcCMhbOua-7"
   },
   "source": [
    "### Geração de memes\n",
    "\n",
    "Um exemplo de geração de texto mais leve é gerar memes com base em um determinado tópico."
   ]
  },
  {
   "cell_type": "code",
   "execution_count": null,
   "metadata": {
    "id": "6l_BZnx5ua-7"
   },
   "outputs": [],
   "source": [
    "prompt = traduza(\"Dame cinco ideas de memes de gatitos:\", \"en\")\n",
    "\n",
    "print(\n",
    "    traduza(generation_model.predict(prompt, temperature=0.2, max_output_tokens=1024, top_k=1, top_p=0.8).text, \"es\")\n",
    ")"
   ]
  },
  {
   "cell_type": "markdown",
   "metadata": {
    "id": "q9lnIlmWua-8"
   },
   "source": [
    "### Geração de perguntas de entrevista\n",
    "\n",
    "Quer você seja o entrevistador ou o entrevistado, ter algumas perguntas de amostra com as quais você pode trabalhar pode ser muito útil em entrevistas de emprego. Abaixo, usamos a API PaLM para nos ajudar a gerar algumas possíveis perguntas de entrevista para uma função específica."
   ]
  },
  {
   "cell_type": "code",
   "execution_count": null,
   "metadata": {
    "id": "xGrZMUt5ua-8"
   },
   "outputs": [],
   "source": [
    "prompt = traduza(\"Genere diez preguntas sobre el cargo de prompt engineer para trabajar con modelos de lenguaje grandes.\", \"en\")\n",
    "\n",
    "print(\n",
    "    traduza(generation_model.predict(prompt, temperature=0.2, max_output_tokens=256, top_k=1, top_p=0.8).text, \"es\")\n",
    ")"
   ]
  },
  {
   "cell_type": "markdown",
   "metadata": {
    "id": "d1nSLoW7ua-8"
   },
   "source": [
    "### Geração de nomes\n",
    "\n",
    "A geração de nomes é útil em vários cenários, como criar novos personagens para uma história ou nomear um novo produto ou empresa. Você pode gerar ideias para nomes de uma entidade especificada usando a API PaLM."
   ]
  },
  {
   "cell_type": "code",
   "execution_count": null,
   "metadata": {
    "id": "qLnUrgs8ua-8"
   },
   "outputs": [],
   "source": [
    "prompt = traduza(\"¿Cuál sería un nombre genial para una floristería que se especializa en vender ramos de flores secas?\", \"en\")\n",
    "\n",
    "print(\n",
    "    traduza(generation_model.predict(prompt, temperature=0.2, max_output_tokens=256, top_k=1, top_p=0.8).text, \"es\")\n",
    ")"
   ]
  },
  {
   "cell_type": "markdown",
   "metadata": {
    "id": "M5Ca5Btvua-8"
   },
   "source": [
    "### Dicas e conselhos gerais\n",
    "\n",
    "Abaixo está um exemplo de uso da API PaLM para obter dicas e conselhos sobre tópicos gerais."
   ]
  },
  {
   "cell_type": "code",
   "execution_count": null,
   "metadata": {
    "id": "aFy4ix6Cua-9"
   },
   "outputs": [],
   "source": [
    "prompt = traduza(\"¿Cuáles serían buenas estrategias para superar el bloqueo del escritor?\", \"en\")\n",
    "\n",
    "print(\n",
    "    traduza(generation_model.predict(prompt, temperature=0.2, max_output_tokens=1024, top_k=1, top_p=0.8).text, \"es\")\n",
    ")"
   ]
  },
  {
   "cell_type": "code",
   "execution_count": null,
   "metadata": {},
   "outputs": [],
   "source": []
  }
 ],
 "metadata": {
  "colab": {
   "name": "ideation.ipynb",
   "toc_visible": true
  },
  "environment": {
   "kernel": "python3",
   "name": "tf2-gpu.2-8.m107",
   "type": "gcloud",
   "uri": "gcr.io/deeplearning-platform-release/tf2-gpu.2-8:m107"
  },
  "kernelspec": {
   "display_name": "Python 3 (ipykernel) (Local)",
   "language": "python",
   "name": "local-python3"
  },
  "language_info": {
   "codemirror_mode": {
    "name": "ipython",
    "version": 3
   },
   "file_extension": ".py",
   "mimetype": "text/x-python",
   "name": "python",
   "nbconvert_exporter": "python",
   "pygments_lexer": "ipython3",
   "version": "3.7.12"
  }
 },
 "nbformat": 4,
 "nbformat_minor": 4
}
